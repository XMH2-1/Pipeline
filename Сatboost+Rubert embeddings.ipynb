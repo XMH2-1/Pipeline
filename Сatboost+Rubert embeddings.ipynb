{
  "cells": [
    {
      "cell_type": "code",
      "execution_count": null,
      "metadata": {
        "id": "O2RSkOVGF2-H"
      },
      "outputs": [],
      "source": [
        "import pandas as pd\n",
        "from transformers import AutoModel, AutoTokenizer, Trainer, TrainingArguments, default_data_collator, DebertaV2Tokenizer, PegasusForConditionalGeneration, PegasusTokenizer\n",
        "from tqdm.notebook import tqdm\n",
        "import torch \n",
        "from sentence_transformers import SentenceTransformer\n",
        "from sklearn.multioutput import MultiOutputRegressor\n",
        "from catboost import CatBoostClassifier\n",
        "import datetime\n",
        "from sklearn.model_selection import KFold\n",
        "from sklearn.metrics import f1_score\n",
        "import numpy as np\n",
        "import requests\n",
        "from bs4 import BeautifulSoup\n",
        "import seaborn as sns\n",
        "import matplotlib.pyplot as plt\n",
        "import wordcloud\n",
        "import string\n",
        "\n",
        "import re\n",
        "from functools import reduce\n",
        "from sklearn.base import BaseEstimator, TransformerMixin\n",
        "from sklearn.feature_extraction.text import TfidfVectorizer, CountVectorizer\n",
        "from spacy.lang.en import English\n",
        "from sklearn.model_selection import train_test_split\n",
        "\n",
        "import spacy\n"
      ]
    },
    {
      "cell_type": "code",
      "execution_count": null,
      "metadata": {
        "id": "0QJdRWiqHE8f"
      },
      "outputs": [],
      "source": [
        "from nltk.stem import PorterStemmer\n",
        "from nltk.stem import WordNetLemmatizer"
      ]
    },
    {
      "cell_type": "code",
      "execution_count": null,
      "metadata": {
        "id": "t6ij2_RTiQDV"
      },
      "outputs": [],
      "source": [
        "train['text_Clean'].values[:10]"
      ]
    },
    {
      "cell_type": "code",
      "execution_count": null,
      "metadata": {
        "id": "sCeBPV6skxmJ"
      },
      "outputs": [],
      "source": [
        "#WordCloud for the Sentiments\n",
        "from wordcloud import WordCloud\n",
        "for label, cmap in zip([1, 2, 3, 4, 5],\n",
        "                       ['winter', 'autumn', 'magma', 'viridis', 'plasma']):\n",
        "    text = train.query('label == @label')['text'].str.cat(sep=' ')\n",
        "    plt.figure(figsize=(10, 6))\n",
        "    wc = WordCloud(width=1000, height=600, background_color=\"#f8f8f8\", colormap=cmap)\n",
        "    wc.generate_from_text(text)\n",
        "    plt.imshow(wc)\n",
        "    plt.axis(\"off\")\n",
        "    plt.title(f\"Words Commonly Used in ${label}$ Messages\", size=20)\n",
        "    plt.show()"
      ]
    },
    {
      "cell_type": "code",
      "execution_count": null,
      "metadata": {
        "id": "PXHH99lXJx3S"
      },
      "outputs": [],
      "source": [
        "reg = CatBoostClassifier(iterations = 1000,\n",
        "                      loss_function='MultiClass',\n",
        "                      l2_leaf_reg=1,\n",
        "                      learning_rate=0.05,\n",
        "                      depth=7,                          \n",
        "                      task_type='CPU', eval_metric='TotalF1',\n",
        "                      min_data_in_leaf = 32,\n",
        "                      #max_bin = 220,\n",
        "                      #verbose=100,\n",
        "                      #leaf_estimation_iterations=30,\n",
        "                      #od_wait=500,\n",
        "                      grow_policy='Lossguide',\n",
        "                      #learning_rate=0.05,\n",
        "                      #bootstrap_type='Poisson'\n",
        "                      verbose=10\n",
        "                      )\n",
        "\n",
        "reg.fit(X_train, y_train, eval_set=(X_test, y_test), use_best_model = True, plot = False,)"
      ]
    },
    {
      "cell_type": "code",
      "execution_count": null,
      "metadata": {
        "id": "lImIo_a4vfce"
      },
      "outputs": [],
      "source": [
        "from sklearn import preprocessing\n",
        "import seaborn as sns\n",
        "def plot_importance(feature_importance):\n",
        "    important_features = feature_importance[feature_importance > 0].sort_values(ascending=False)\n",
        "    \n",
        "    plt.figure(figsize=(15, len(important_features)//4))\n",
        "    sns.barplot(x=important_features.values, y=important_features.index, orient='h')\n",
        "    plt.title('Top important features')\n",
        "    plt.show()\n",
        "\n",
        "tfidf_pipe = Pipeline([('vecrotizing', tf)])\n",
        "\n",
        "\n",
        "feature_importance_1 = pd.Series(reg.get_feature_importance(), index=tfidf_pipe.steps[0][0].get_feature_names_out())\n",
        "plot_importance(feature_importance_1)"
      ]
    },
    {
      "cell_type": "code",
      "execution_count": null,
      "metadata": {
        "id": "KK-DA0FHRkUq"
      },
      "outputs": [],
      "source": [
        "y_train.astype(int)"
      ]
    },
    {
      "cell_type": "code",
      "execution_count": null,
      "metadata": {
        "id": "5IP7KqujQT5T"
      },
      "outputs": [],
      "source": [
        "def mean_pooling(model_output, attention_mask):\n",
        "    token_embeddings = model_output[0].detach().cpu()\n",
        "    input_mask_expanded = attention_mask.unsqueeze(-1).expand(token_embeddings.size()).float()\n",
        "    sum_embeddings = torch.sum(token_embeddings * input_mask_expanded, 1)\n",
        "    sum_mask = torch.clamp(input_mask_expanded.sum(1), min=1e-9)\n",
        "    return sum_embeddings / sum_mask\n",
        "\n",
        "\n",
        "def make_features_transformers(df, model_name, df_model, col, max_len):\n",
        "  tokenizer = AutoTokenizer.from_pretrained(model_name,  do_lower_case=True)\n",
        "  model = AutoModel.from_pretrained(model_name).cuda()\n",
        "  text_features = []\n",
        "  for sentence in tqdm(df[col]):\n",
        "    encoded_input = tokenizer([sentence], padding='max_length', truncation=True, max_length=max_len, return_tensors='pt')\n",
        "    with torch.no_grad():\n",
        "      model_output = model(input_ids=encoded_input['input_ids'].cuda())\n",
        "    sentence_embeddings = list(mean_pooling(model_output, encoded_input['attention_mask']).numpy())\n",
        "    text_features.extend(sentence_embeddings)\n",
        "  text_features_df = pd.DataFrame(text_features, columns = [f'{df_model}_{col}_feature_{i}' for i in range(len(text_features[0]))])\n",
        "  return text_features_df\n",
        "     \n"
      ]
    },
    {
      "cell_type": "code",
      "source": [
        "train = pd.read_csv('/content/df_for_train.csv', encoding='utf-8') \n",
        "train  = train.dropna()\n",
        "\n",
        "import string \n",
        "stopwords = nltk.corpus.stopwords.words('russian')\n",
        "stopwords.extend(['настоящий договор', 'настоящего договора', 'настоящим договором', 'настоящему договору',\\\n",
        "                  'настоящего', 'договора', 'настоящим', 'договором ', 'договорy', 'к', 'на', '...'])\n",
        "\n",
        "def del_stopwors_text(text):\n",
        "    text = \"\".join([word.lower() for word in text if word not in string.punctuation])\n",
        "    #remove links starting with http\n",
        "    text = re.sub(r'http\\S+', ' ', text)\n",
        "    #remove digits\n",
        "    text = re.sub(r'\\d+',' ', text)\n",
        "    tokens = re.split('\\W+', text)\n",
        "    text = [word for word in tokens if word not in stopwords]\n",
        "    return text\n",
        "\n",
        "train['text_Clean'] = train['text'].apply(lambda x: del_stopwors_text(x))"
      ],
      "metadata": {
        "id": "LWm3Lv_TehRj"
      },
      "execution_count": null,
      "outputs": []
    },
    {
      "cell_type": "code",
      "source": [
        "train.head()"
      ],
      "metadata": {
        "id": "x2Lhmra9qUuu"
      },
      "execution_count": null,
      "outputs": []
    },
    {
      "cell_type": "code",
      "execution_count": null,
      "metadata": {
        "id": "3vrpWRn3wj8A"
      },
      "outputs": [],
      "source": [
        "corpus_data = []\n",
        "for i in range(len(train['text_Clean'])):\n",
        "  corpus_data.append(' '.join(train['text_Clean'].values[i]))\n",
        "train['text_Clean'] = corpus_data"
      ]
    },
    {
      "cell_type": "code",
      "execution_count": null,
      "metadata": {
        "colab": {
          "base_uri": "https://localhost:8080/",
          "height": 142,
          "referenced_widgets": [
            "3f97c9976ddc4a62865ac9047084fa05",
            "217f9c3a0d564fd397b0b59ceed1c7d5",
            "6e75a2df6eb34392b28c7ff6862232b8",
            "c9cebb1f0349420eb24b932c309d880d",
            "47dea8bd88e34a69b3db20937aec3e95",
            "7d53cb7af56347209b8079f2a22153b9",
            "4bc764bd5e904174889cf914d14dd451",
            "1f7d3eb77c3e417fb5f420ad946e7934",
            "3a0e0c07d33241458c7285371abe0fa2",
            "0f0d1677b29f4ec28b4329e38974ec51",
            "ee4724ec274842d6b4b43f3746fd2440"
          ]
        },
        "id": "tnptwwsmQkpg",
        "outputId": "4746c47e-92c6-4ae0-f05b-a06d830e34ea"
      },
      "outputs": [
        {
          "output_type": "stream",
          "name": "stdout",
          "text": [
            "DeepPavlov/rubert-base-cased-conversational\n"
          ]
        },
        {
          "output_type": "stream",
          "name": "stderr",
          "text": [
            "Some weights of the model checkpoint at DeepPavlov/rubert-base-cased-conversational were not used when initializing BertModel: ['cls.predictions.transform.dense.weight', 'cls.predictions.bias', 'cls.predictions.decoder.weight', 'cls.seq_relationship.bias', 'cls.predictions.transform.LayerNorm.weight', 'cls.seq_relationship.weight', 'cls.predictions.decoder.bias', 'cls.predictions.transform.LayerNorm.bias', 'cls.predictions.transform.dense.bias']\n",
            "- This IS expected if you are initializing BertModel from the checkpoint of a model trained on another task or with another architecture (e.g. initializing a BertForSequenceClassification model from a BertForPreTraining model).\n",
            "- This IS NOT expected if you are initializing BertModel from the checkpoint of a model that you expect to be exactly identical (initializing a BertForSequenceClassification model from a BertForSequenceClassification model).\n"
          ]
        },
        {
          "output_type": "display_data",
          "data": {
            "text/plain": [
              "  0%|          | 0/116 [00:00<?, ?it/s]"
            ],
            "application/vnd.jupyter.widget-view+json": {
              "version_major": 2,
              "version_minor": 0,
              "model_id": "3f97c9976ddc4a62865ac9047084fa05"
            }
          },
          "metadata": {}
        }
      ],
      "source": [
        "models = ['DeepPavlov/rubert-base-cased-conversational']\n",
        "for m in models:\n",
        "  print(m)\n",
        "  train = train.join(make_features_transformers(train, m, m.split('/')[1], 'text', 256))\n",
        "  train.to_csv('rbk_transformers_features.csv', index=False)"
      ]
    },
    {
      "cell_type": "code",
      "execution_count": null,
      "metadata": {
        "colab": {
          "base_uri": "https://localhost:8080/",
          "height": 497
        },
        "id": "7KAwqbBwQ5rk",
        "outputId": "cbb4038d-beba-4c98-fe4e-428def81776e"
      },
      "outputs": [
        {
          "output_type": "execute_result",
          "data": {
            "text/plain": [
              "                               name  \\\n",
              "0  855c8450351c98a25ea2ac22a0256c7f   \n",
              "1  35b6a0f57d909507c5aa9a8972b15f35   \n",
              "2  6babd660f1a9192017a06b7e93bea919   \n",
              "\n",
              "                                                text  \\\n",
              "0  г договор г москва г нижеподписавшиеся граждан...   \n",
              "1  приложение приказу ав договор возмездного оказ...   \n",
              "2  договор г москва общество ограниченной ответст...   \n",
              "\n",
              "                                            keywords  type  \\\n",
              "0  аренды квартиры договора аренды получает време...     4   \n",
              "1  оказания услуг настоящего договора оказать усл...     2   \n",
              "2  настоящего договора настоящему договору сдачи ...     3   \n",
              "\n",
              "                                          text_Clean  \\\n",
              "0  [г, договор, г, москва, г, нижеподписавшиеся, ...   \n",
              "1  [приложение, приказу, ав, договор, возмездного...   \n",
              "2  [договор, г, москва, общество, ограниченной, о...   \n",
              "\n",
              "   rubert-base-cased-conversational_text_feature_0  \\\n",
              "0                                        -0.336127   \n",
              "1                                        -0.445444   \n",
              "2                                        -0.367390   \n",
              "\n",
              "   rubert-base-cased-conversational_text_feature_1  \\\n",
              "0                                        -0.492062   \n",
              "1                                        -0.710986   \n",
              "2                                        -0.380517   \n",
              "\n",
              "   rubert-base-cased-conversational_text_feature_2  \\\n",
              "0                                         0.388523   \n",
              "1                                         0.515844   \n",
              "2                                         0.190718   \n",
              "\n",
              "   rubert-base-cased-conversational_text_feature_3  \\\n",
              "0                                        -0.091527   \n",
              "1                                         0.316864   \n",
              "2                                        -0.070568   \n",
              "\n",
              "   rubert-base-cased-conversational_text_feature_4  ...  \\\n",
              "0                                         0.059756  ...   \n",
              "1                                        -0.087410  ...   \n",
              "2                                        -0.064334  ...   \n",
              "\n",
              "   rubert-base-cased-conversational_text_feature_758  \\\n",
              "0                                          -0.404316   \n",
              "1                                          -0.022130   \n",
              "2                                          -0.402182   \n",
              "\n",
              "   rubert-base-cased-conversational_text_feature_759  \\\n",
              "0                                          -0.121761   \n",
              "1                                           0.343179   \n",
              "2                                          -0.163525   \n",
              "\n",
              "   rubert-base-cased-conversational_text_feature_760  \\\n",
              "0                                           0.071768   \n",
              "1                                           0.478800   \n",
              "2                                          -0.011978   \n",
              "\n",
              "   rubert-base-cased-conversational_text_feature_761  \\\n",
              "0                                          -0.773399   \n",
              "1                                          -0.982635   \n",
              "2                                          -0.972786   \n",
              "\n",
              "   rubert-base-cased-conversational_text_feature_762  \\\n",
              "0                                           0.604747   \n",
              "1                                           0.702125   \n",
              "2                                           0.667193   \n",
              "\n",
              "   rubert-base-cased-conversational_text_feature_763  \\\n",
              "0                                          -0.056796   \n",
              "1                                          -0.110526   \n",
              "2                                           0.084245   \n",
              "\n",
              "   rubert-base-cased-conversational_text_feature_764  \\\n",
              "0                                           0.007781   \n",
              "1                                           0.201609   \n",
              "2                                           0.007796   \n",
              "\n",
              "   rubert-base-cased-conversational_text_feature_765  \\\n",
              "0                                           0.301086   \n",
              "1                                           0.371411   \n",
              "2                                           0.467209   \n",
              "\n",
              "   rubert-base-cased-conversational_text_feature_766  \\\n",
              "0                                           0.245351   \n",
              "1                                           0.434384   \n",
              "2                                           0.317579   \n",
              "\n",
              "   rubert-base-cased-conversational_text_feature_767  \n",
              "0                                          -0.358273  \n",
              "1                                          -0.393936  \n",
              "2                                          -0.419649  \n",
              "\n",
              "[3 rows x 773 columns]"
            ],
            "text/html": [
              "\n",
              "  <div id=\"df-430162d8-0004-49c7-88e9-cdf409c60cd8\">\n",
              "    <div class=\"colab-df-container\">\n",
              "      <div>\n",
              "<style scoped>\n",
              "    .dataframe tbody tr th:only-of-type {\n",
              "        vertical-align: middle;\n",
              "    }\n",
              "\n",
              "    .dataframe tbody tr th {\n",
              "        vertical-align: top;\n",
              "    }\n",
              "\n",
              "    .dataframe thead th {\n",
              "        text-align: right;\n",
              "    }\n",
              "</style>\n",
              "<table border=\"1\" class=\"dataframe\">\n",
              "  <thead>\n",
              "    <tr style=\"text-align: right;\">\n",
              "      <th></th>\n",
              "      <th>name</th>\n",
              "      <th>text</th>\n",
              "      <th>keywords</th>\n",
              "      <th>type</th>\n",
              "      <th>text_Clean</th>\n",
              "      <th>rubert-base-cased-conversational_text_feature_0</th>\n",
              "      <th>rubert-base-cased-conversational_text_feature_1</th>\n",
              "      <th>rubert-base-cased-conversational_text_feature_2</th>\n",
              "      <th>rubert-base-cased-conversational_text_feature_3</th>\n",
              "      <th>rubert-base-cased-conversational_text_feature_4</th>\n",
              "      <th>...</th>\n",
              "      <th>rubert-base-cased-conversational_text_feature_758</th>\n",
              "      <th>rubert-base-cased-conversational_text_feature_759</th>\n",
              "      <th>rubert-base-cased-conversational_text_feature_760</th>\n",
              "      <th>rubert-base-cased-conversational_text_feature_761</th>\n",
              "      <th>rubert-base-cased-conversational_text_feature_762</th>\n",
              "      <th>rubert-base-cased-conversational_text_feature_763</th>\n",
              "      <th>rubert-base-cased-conversational_text_feature_764</th>\n",
              "      <th>rubert-base-cased-conversational_text_feature_765</th>\n",
              "      <th>rubert-base-cased-conversational_text_feature_766</th>\n",
              "      <th>rubert-base-cased-conversational_text_feature_767</th>\n",
              "    </tr>\n",
              "  </thead>\n",
              "  <tbody>\n",
              "    <tr>\n",
              "      <th>0</th>\n",
              "      <td>855c8450351c98a25ea2ac22a0256c7f</td>\n",
              "      <td>г договор г москва г нижеподписавшиеся граждан...</td>\n",
              "      <td>аренды квартиры договора аренды получает време...</td>\n",
              "      <td>4</td>\n",
              "      <td>[г, договор, г, москва, г, нижеподписавшиеся, ...</td>\n",
              "      <td>-0.336127</td>\n",
              "      <td>-0.492062</td>\n",
              "      <td>0.388523</td>\n",
              "      <td>-0.091527</td>\n",
              "      <td>0.059756</td>\n",
              "      <td>...</td>\n",
              "      <td>-0.404316</td>\n",
              "      <td>-0.121761</td>\n",
              "      <td>0.071768</td>\n",
              "      <td>-0.773399</td>\n",
              "      <td>0.604747</td>\n",
              "      <td>-0.056796</td>\n",
              "      <td>0.007781</td>\n",
              "      <td>0.301086</td>\n",
              "      <td>0.245351</td>\n",
              "      <td>-0.358273</td>\n",
              "    </tr>\n",
              "    <tr>\n",
              "      <th>1</th>\n",
              "      <td>35b6a0f57d909507c5aa9a8972b15f35</td>\n",
              "      <td>приложение приказу ав договор возмездного оказ...</td>\n",
              "      <td>оказания услуг настоящего договора оказать усл...</td>\n",
              "      <td>2</td>\n",
              "      <td>[приложение, приказу, ав, договор, возмездного...</td>\n",
              "      <td>-0.445444</td>\n",
              "      <td>-0.710986</td>\n",
              "      <td>0.515844</td>\n",
              "      <td>0.316864</td>\n",
              "      <td>-0.087410</td>\n",
              "      <td>...</td>\n",
              "      <td>-0.022130</td>\n",
              "      <td>0.343179</td>\n",
              "      <td>0.478800</td>\n",
              "      <td>-0.982635</td>\n",
              "      <td>0.702125</td>\n",
              "      <td>-0.110526</td>\n",
              "      <td>0.201609</td>\n",
              "      <td>0.371411</td>\n",
              "      <td>0.434384</td>\n",
              "      <td>-0.393936</td>\n",
              "    </tr>\n",
              "    <tr>\n",
              "      <th>2</th>\n",
              "      <td>6babd660f1a9192017a06b7e93bea919</td>\n",
              "      <td>договор г москва общество ограниченной ответст...</td>\n",
              "      <td>настоящего договора настоящему договору сдачи ...</td>\n",
              "      <td>3</td>\n",
              "      <td>[договор, г, москва, общество, ограниченной, о...</td>\n",
              "      <td>-0.367390</td>\n",
              "      <td>-0.380517</td>\n",
              "      <td>0.190718</td>\n",
              "      <td>-0.070568</td>\n",
              "      <td>-0.064334</td>\n",
              "      <td>...</td>\n",
              "      <td>-0.402182</td>\n",
              "      <td>-0.163525</td>\n",
              "      <td>-0.011978</td>\n",
              "      <td>-0.972786</td>\n",
              "      <td>0.667193</td>\n",
              "      <td>0.084245</td>\n",
              "      <td>0.007796</td>\n",
              "      <td>0.467209</td>\n",
              "      <td>0.317579</td>\n",
              "      <td>-0.419649</td>\n",
              "    </tr>\n",
              "  </tbody>\n",
              "</table>\n",
              "<p>3 rows × 773 columns</p>\n",
              "</div>\n",
              "      <button class=\"colab-df-convert\" onclick=\"convertToInteractive('df-430162d8-0004-49c7-88e9-cdf409c60cd8')\"\n",
              "              title=\"Convert this dataframe to an interactive table.\"\n",
              "              style=\"display:none;\">\n",
              "        \n",
              "  <svg xmlns=\"http://www.w3.org/2000/svg\" height=\"24px\"viewBox=\"0 0 24 24\"\n",
              "       width=\"24px\">\n",
              "    <path d=\"M0 0h24v24H0V0z\" fill=\"none\"/>\n",
              "    <path d=\"M18.56 5.44l.94 2.06.94-2.06 2.06-.94-2.06-.94-.94-2.06-.94 2.06-2.06.94zm-11 1L8.5 8.5l.94-2.06 2.06-.94-2.06-.94L8.5 2.5l-.94 2.06-2.06.94zm10 10l.94 2.06.94-2.06 2.06-.94-2.06-.94-.94-2.06-.94 2.06-2.06.94z\"/><path d=\"M17.41 7.96l-1.37-1.37c-.4-.4-.92-.59-1.43-.59-.52 0-1.04.2-1.43.59L10.3 9.45l-7.72 7.72c-.78.78-.78 2.05 0 2.83L4 21.41c.39.39.9.59 1.41.59.51 0 1.02-.2 1.41-.59l7.78-7.78 2.81-2.81c.8-.78.8-2.07 0-2.86zM5.41 20L4 18.59l7.72-7.72 1.47 1.35L5.41 20z\"/>\n",
              "  </svg>\n",
              "      </button>\n",
              "      \n",
              "  <style>\n",
              "    .colab-df-container {\n",
              "      display:flex;\n",
              "      flex-wrap:wrap;\n",
              "      gap: 12px;\n",
              "    }\n",
              "\n",
              "    .colab-df-convert {\n",
              "      background-color: #E8F0FE;\n",
              "      border: none;\n",
              "      border-radius: 50%;\n",
              "      cursor: pointer;\n",
              "      display: none;\n",
              "      fill: #1967D2;\n",
              "      height: 32px;\n",
              "      padding: 0 0 0 0;\n",
              "      width: 32px;\n",
              "    }\n",
              "\n",
              "    .colab-df-convert:hover {\n",
              "      background-color: #E2EBFA;\n",
              "      box-shadow: 0px 1px 2px rgba(60, 64, 67, 0.3), 0px 1px 3px 1px rgba(60, 64, 67, 0.15);\n",
              "      fill: #174EA6;\n",
              "    }\n",
              "\n",
              "    [theme=dark] .colab-df-convert {\n",
              "      background-color: #3B4455;\n",
              "      fill: #D2E3FC;\n",
              "    }\n",
              "\n",
              "    [theme=dark] .colab-df-convert:hover {\n",
              "      background-color: #434B5C;\n",
              "      box-shadow: 0px 1px 3px 1px rgba(0, 0, 0, 0.15);\n",
              "      filter: drop-shadow(0px 1px 2px rgba(0, 0, 0, 0.3));\n",
              "      fill: #FFFFFF;\n",
              "    }\n",
              "  </style>\n",
              "\n",
              "      <script>\n",
              "        const buttonEl =\n",
              "          document.querySelector('#df-430162d8-0004-49c7-88e9-cdf409c60cd8 button.colab-df-convert');\n",
              "        buttonEl.style.display =\n",
              "          google.colab.kernel.accessAllowed ? 'block' : 'none';\n",
              "\n",
              "        async function convertToInteractive(key) {\n",
              "          const element = document.querySelector('#df-430162d8-0004-49c7-88e9-cdf409c60cd8');\n",
              "          const dataTable =\n",
              "            await google.colab.kernel.invokeFunction('convertToInteractive',\n",
              "                                                     [key], {});\n",
              "          if (!dataTable) return;\n",
              "\n",
              "          const docLinkHtml = 'Like what you see? Visit the ' +\n",
              "            '<a target=\"_blank\" href=https://colab.research.google.com/notebooks/data_table.ipynb>data table notebook</a>'\n",
              "            + ' to learn more about interactive tables.';\n",
              "          element.innerHTML = '';\n",
              "          dataTable['output_type'] = 'display_data';\n",
              "          await google.colab.output.renderOutput(dataTable, element);\n",
              "          const docLink = document.createElement('div');\n",
              "          docLink.innerHTML = docLinkHtml;\n",
              "          element.appendChild(docLink);\n",
              "        }\n",
              "      </script>\n",
              "    </div>\n",
              "  </div>\n",
              "  "
            ]
          },
          "metadata": {},
          "execution_count": 65
        }
      ],
      "source": [
        "train.head(3)"
      ]
    },
    {
      "cell_type": "code",
      "execution_count": null,
      "metadata": {
        "id": "83kZiohq38XD"
      },
      "outputs": [],
      "source": [
        "target_features = ['name','text','type','keywords','text_Clean']\n",
        "y = train['type']\n",
        "X = train.drop(columns=target_features)\n",
        "\n"
      ]
    },
    {
      "cell_type": "code",
      "source": [
        "X_train, X_test, y_train, y_test = train_test_split(X, y, test_size=0.1, random_state=42)\n"
      ],
      "metadata": {
        "id": "KQtq37wDjpiW"
      },
      "execution_count": null,
      "outputs": []
    },
    {
      "cell_type": "code",
      "execution_count": null,
      "metadata": {
        "colab": {
          "base_uri": "https://localhost:8080/"
        },
        "id": "2efKT5KCW-Gn",
        "outputId": "22499817-6eb7-4fbc-854c-8be3f7d6f37a"
      },
      "outputs": [
        {
          "output_type": "stream",
          "name": "stderr",
          "text": [
            "You should provide test set for use best model. use_best_model parameter has been switched to false value.\n"
          ]
        },
        {
          "output_type": "stream",
          "name": "stdout",
          "text": [
            "0:\tlearn: 0.5532401\ttotal: 28.6ms\tremaining: 8.54s\n",
            "10:\tlearn: 0.9903454\ttotal: 510ms\tremaining: 13.4s\n",
            "20:\tlearn: 0.9903454\ttotal: 1.02s\tremaining: 13.6s\n",
            "30:\tlearn: 0.9904136\ttotal: 1.65s\tremaining: 14.3s\n",
            "40:\tlearn: 0.9903454\ttotal: 2.2s\tremaining: 13.9s\n",
            "50:\tlearn: 0.9904136\ttotal: 2.73s\tremaining: 13.3s\n",
            "60:\tlearn: 0.9904136\ttotal: 3.25s\tremaining: 12.7s\n",
            "70:\tlearn: 0.9903454\ttotal: 3.82s\tremaining: 12.3s\n",
            "80:\tlearn: 0.9903454\ttotal: 4.42s\tremaining: 12s\n",
            "90:\tlearn: 0.9903454\ttotal: 4.91s\tremaining: 11.3s\n",
            "100:\tlearn: 0.9903454\ttotal: 5.42s\tremaining: 10.7s\n",
            "110:\tlearn: 0.9904136\ttotal: 5.87s\tremaining: 9.99s\n",
            "120:\tlearn: 0.9904136\ttotal: 6.57s\tremaining: 9.72s\n",
            "130:\tlearn: 0.9904136\ttotal: 7.02s\tremaining: 9.06s\n",
            "140:\tlearn: 0.9904136\ttotal: 7.61s\tremaining: 8.58s\n",
            "150:\tlearn: 0.9904136\ttotal: 8.1s\tremaining: 7.99s\n",
            "160:\tlearn: 0.9904136\ttotal: 8.72s\tremaining: 7.53s\n",
            "170:\tlearn: 0.9904136\ttotal: 9.3s\tremaining: 7.01s\n",
            "180:\tlearn: 0.9904136\ttotal: 9.78s\tremaining: 6.43s\n",
            "190:\tlearn: 0.9904136\ttotal: 10.4s\tremaining: 5.91s\n",
            "200:\tlearn: 0.9904136\ttotal: 10.9s\tremaining: 5.35s\n",
            "210:\tlearn: 0.9904136\ttotal: 11.4s\tremaining: 4.81s\n",
            "220:\tlearn: 0.9903454\ttotal: 11.9s\tremaining: 4.26s\n",
            "230:\tlearn: 0.9903454\ttotal: 12.5s\tremaining: 3.75s\n",
            "240:\tlearn: 0.9903454\ttotal: 13.2s\tremaining: 3.22s\n",
            "250:\tlearn: 0.9903454\ttotal: 13.6s\tremaining: 2.66s\n",
            "260:\tlearn: 0.9903454\ttotal: 14.2s\tremaining: 2.13s\n",
            "270:\tlearn: 0.9903454\ttotal: 14.7s\tremaining: 1.58s\n",
            "280:\tlearn: 0.9903454\ttotal: 15.4s\tremaining: 1.04s\n",
            "290:\tlearn: 0.9903454\ttotal: 15.9s\tremaining: 492ms\n",
            "299:\tlearn: 0.9903454\ttotal: 16.5s\tremaining: 0us\n"
          ]
        }
      ],
      "source": [
        "good_ft = None\n",
        "\n",
        "\n",
        "cls = CatBoostClassifier(iterations = 300,\n",
        "                      loss_function='MultiClass',\n",
        "                      l2_leaf_reg=1,\n",
        "                      learning_rate=0.5,\n",
        "                      depth=7,                          \n",
        "                      task_type='CPU', eval_metric='TotalF1',\n",
        "                      min_data_in_leaf = 32,\n",
        "                      #max_bin = 220,\n",
        "                      #verbose=100,\n",
        "                      #leaf_estimation_iterations=30,\n",
        "                      #od_wait=500,\n",
        "                      grow_policy='Lossguide',\n",
        "                      #learning_rate=0.05,\n",
        "                      #bootstrap_type='Poisson'\n",
        "                      verbose=10\n",
        "                      )\n",
        "\n",
        "cls.fit(X_train, y_train, use_best_model = True, plot = False,)\n",
        "ftt = cls.get_feature_importance(prettified=True)\n",
        "good_ft = ftt['Feature Id'][ftt['Importances']>0.7]"
      ]
    },
    {
      "cell_type": "code",
      "source": [
        "cls2 = CatBoostClassifier(iterations = 200,\n",
        "                      loss_function='MultiClass',\n",
        "                      l2_leaf_reg=0.5,\n",
        "                      learning_rate=0.05,\n",
        "                      depth=12,                          \n",
        "                      task_type='CPU', eval_metric='TotalF1',\n",
        "                      min_data_in_leaf = 32,\n",
        "                      #max_bin = 220,\n",
        "                      #verbose=100,\n",
        "                      #leaf_estimation_iterations=30,\n",
        "                      #od_wait=500,\n",
        "                      grow_policy='Lossguide',\n",
        "                      #learning_rate=0.05,\n",
        "                      #bootstrap_type='Poisson'\n",
        "                      verbose=10\n",
        "                      )\n",
        "\n",
        "cls2.fit(X_train[good_ft], y_train, use_best_model = True, plot = False,)\n"
      ],
      "metadata": {
        "colab": {
          "base_uri": "https://localhost:8080/"
        },
        "id": "m9maQWsWl4vm",
        "outputId": "6d82660e-349b-4fbe-b623-4a0e76e80e41"
      },
      "execution_count": null,
      "outputs": [
        {
          "output_type": "stream",
          "name": "stderr",
          "text": [
            "You should provide test set for use best model. use_best_model parameter has been switched to false value.\n"
          ]
        },
        {
          "output_type": "stream",
          "name": "stdout",
          "text": [
            "0:\tlearn: 0.3819937\ttotal: 1.68ms\tremaining: 334ms\n",
            "10:\tlearn: 0.8830143\ttotal: 23.6ms\tremaining: 406ms\n",
            "20:\tlearn: 0.9517973\ttotal: 44.2ms\tremaining: 376ms\n",
            "30:\tlearn: 0.9516632\ttotal: 64ms\tremaining: 349ms\n",
            "40:\tlearn: 0.9614063\ttotal: 84.6ms\tremaining: 328ms\n",
            "50:\tlearn: 0.9614063\ttotal: 106ms\tremaining: 309ms\n",
            "60:\tlearn: 0.9807367\ttotal: 126ms\tremaining: 286ms\n",
            "70:\tlearn: 0.9807367\ttotal: 146ms\tremaining: 264ms\n",
            "80:\tlearn: 0.9807367\ttotal: 185ms\tremaining: 271ms\n",
            "90:\tlearn: 0.9903454\ttotal: 237ms\tremaining: 284ms\n",
            "100:\tlearn: 0.9903454\ttotal: 350ms\tremaining: 343ms\n",
            "110:\tlearn: 0.9903454\ttotal: 404ms\tremaining: 324ms\n",
            "120:\tlearn: 0.9903454\ttotal: 498ms\tremaining: 325ms\n",
            "130:\tlearn: 0.9903454\ttotal: 577ms\tremaining: 304ms\n",
            "140:\tlearn: 0.9903454\ttotal: 617ms\tremaining: 258ms\n",
            "150:\tlearn: 0.9903454\ttotal: 649ms\tremaining: 210ms\n",
            "160:\tlearn: 0.9903454\ttotal: 686ms\tremaining: 166ms\n",
            "170:\tlearn: 0.9903454\ttotal: 722ms\tremaining: 122ms\n",
            "180:\tlearn: 0.9903454\ttotal: 803ms\tremaining: 84.3ms\n",
            "190:\tlearn: 0.9903454\ttotal: 904ms\tremaining: 42.6ms\n",
            "199:\tlearn: 0.9903454\ttotal: 995ms\tremaining: 0us\n"
          ]
        },
        {
          "output_type": "execute_result",
          "data": {
            "text/plain": [
              "<catboost.core.CatBoostClassifier at 0x7ff549b781f0>"
            ]
          },
          "metadata": {},
          "execution_count": 69
        }
      ]
    },
    {
      "cell_type": "code",
      "execution_count": null,
      "metadata": {
        "id": "udqKeOCo0rqQ",
        "colab": {
          "base_uri": "https://localhost:8080/"
        },
        "outputId": "9e45ee0d-9a30-4e0f-dc0a-31913c793d04"
      },
      "outputs": [
        {
          "output_type": "stream",
          "name": "stdout",
          "text": [
            "              precision    recall  f1-score   support\n",
            "\n",
            "           1       1.00      1.00      1.00         3\n",
            "           2       1.00      1.00      1.00         2\n",
            "           3       1.00      1.00      1.00         2\n",
            "           4       0.50      0.50      0.50         2\n",
            "           5       0.67      0.67      0.67         3\n",
            "\n",
            "    accuracy                           0.83        12\n",
            "   macro avg       0.83      0.83      0.83        12\n",
            "weighted avg       0.83      0.83      0.83        12\n",
            "\n"
          ]
        }
      ],
      "source": [
        "from sklearn.metrics import classification_report\n",
        "pred  = cls2.predict(X_test)\n",
        "res_1 = classification_report(pred, y_test)\n",
        "print(res_1)"
      ]
    },
    {
      "cell_type": "code",
      "source": [
        "cls2.save_model('model_test.cbm',\n",
        "           format=\"cbm\",\n",
        "           export_parameters=None,\n",
        "           pool=None)"
      ],
      "metadata": {
        "id": "srEU5ZOGCenA"
      },
      "execution_count": null,
      "outputs": []
    },
    {
      "cell_type": "code",
      "source": [
        "import pickle"
      ],
      "metadata": {
        "id": "sJ4ooYANCL3l"
      },
      "execution_count": null,
      "outputs": []
    }
  ],
  "metadata": {
    "accelerator": "GPU",
    "colab": {
      "provenance": []
    },
    "gpuClass": "standard",
    "kernelspec": {
      "display_name": "Python 3",
      "name": "python3"
    },
    "language_info": {
      "name": "python"
    },
    "widgets": {
      "application/vnd.jupyter.widget-state+json": {
        "3f97c9976ddc4a62865ac9047084fa05": {
          "model_module": "@jupyter-widgets/controls",
          "model_name": "HBoxModel",
          "model_module_version": "1.5.0",
          "state": {
            "_dom_classes": [],
            "_model_module": "@jupyter-widgets/controls",
            "_model_module_version": "1.5.0",
            "_model_name": "HBoxModel",
            "_view_count": null,
            "_view_module": "@jupyter-widgets/controls",
            "_view_module_version": "1.5.0",
            "_view_name": "HBoxView",
            "box_style": "",
            "children": [
              "IPY_MODEL_217f9c3a0d564fd397b0b59ceed1c7d5",
              "IPY_MODEL_6e75a2df6eb34392b28c7ff6862232b8",
              "IPY_MODEL_c9cebb1f0349420eb24b932c309d880d"
            ],
            "layout": "IPY_MODEL_47dea8bd88e34a69b3db20937aec3e95"
          }
        },
        "217f9c3a0d564fd397b0b59ceed1c7d5": {
          "model_module": "@jupyter-widgets/controls",
          "model_name": "HTMLModel",
          "model_module_version": "1.5.0",
          "state": {
            "_dom_classes": [],
            "_model_module": "@jupyter-widgets/controls",
            "_model_module_version": "1.5.0",
            "_model_name": "HTMLModel",
            "_view_count": null,
            "_view_module": "@jupyter-widgets/controls",
            "_view_module_version": "1.5.0",
            "_view_name": "HTMLView",
            "description": "",
            "description_tooltip": null,
            "layout": "IPY_MODEL_7d53cb7af56347209b8079f2a22153b9",
            "placeholder": "​",
            "style": "IPY_MODEL_4bc764bd5e904174889cf914d14dd451",
            "value": "100%"
          }
        },
        "6e75a2df6eb34392b28c7ff6862232b8": {
          "model_module": "@jupyter-widgets/controls",
          "model_name": "FloatProgressModel",
          "model_module_version": "1.5.0",
          "state": {
            "_dom_classes": [],
            "_model_module": "@jupyter-widgets/controls",
            "_model_module_version": "1.5.0",
            "_model_name": "FloatProgressModel",
            "_view_count": null,
            "_view_module": "@jupyter-widgets/controls",
            "_view_module_version": "1.5.0",
            "_view_name": "ProgressView",
            "bar_style": "success",
            "description": "",
            "description_tooltip": null,
            "layout": "IPY_MODEL_1f7d3eb77c3e417fb5f420ad946e7934",
            "max": 116,
            "min": 0,
            "orientation": "horizontal",
            "style": "IPY_MODEL_3a0e0c07d33241458c7285371abe0fa2",
            "value": 116
          }
        },
        "c9cebb1f0349420eb24b932c309d880d": {
          "model_module": "@jupyter-widgets/controls",
          "model_name": "HTMLModel",
          "model_module_version": "1.5.0",
          "state": {
            "_dom_classes": [],
            "_model_module": "@jupyter-widgets/controls",
            "_model_module_version": "1.5.0",
            "_model_name": "HTMLModel",
            "_view_count": null,
            "_view_module": "@jupyter-widgets/controls",
            "_view_module_version": "1.5.0",
            "_view_name": "HTMLView",
            "description": "",
            "description_tooltip": null,
            "layout": "IPY_MODEL_0f0d1677b29f4ec28b4329e38974ec51",
            "placeholder": "​",
            "style": "IPY_MODEL_ee4724ec274842d6b4b43f3746fd2440",
            "value": " 116/116 [00:02&lt;00:00, 43.00it/s]"
          }
        },
        "47dea8bd88e34a69b3db20937aec3e95": {
          "model_module": "@jupyter-widgets/base",
          "model_name": "LayoutModel",
          "model_module_version": "1.2.0",
          "state": {
            "_model_module": "@jupyter-widgets/base",
            "_model_module_version": "1.2.0",
            "_model_name": "LayoutModel",
            "_view_count": null,
            "_view_module": "@jupyter-widgets/base",
            "_view_module_version": "1.2.0",
            "_view_name": "LayoutView",
            "align_content": null,
            "align_items": null,
            "align_self": null,
            "border": null,
            "bottom": null,
            "display": null,
            "flex": null,
            "flex_flow": null,
            "grid_area": null,
            "grid_auto_columns": null,
            "grid_auto_flow": null,
            "grid_auto_rows": null,
            "grid_column": null,
            "grid_gap": null,
            "grid_row": null,
            "grid_template_areas": null,
            "grid_template_columns": null,
            "grid_template_rows": null,
            "height": null,
            "justify_content": null,
            "justify_items": null,
            "left": null,
            "margin": null,
            "max_height": null,
            "max_width": null,
            "min_height": null,
            "min_width": null,
            "object_fit": null,
            "object_position": null,
            "order": null,
            "overflow": null,
            "overflow_x": null,
            "overflow_y": null,
            "padding": null,
            "right": null,
            "top": null,
            "visibility": null,
            "width": null
          }
        },
        "7d53cb7af56347209b8079f2a22153b9": {
          "model_module": "@jupyter-widgets/base",
          "model_name": "LayoutModel",
          "model_module_version": "1.2.0",
          "state": {
            "_model_module": "@jupyter-widgets/base",
            "_model_module_version": "1.2.0",
            "_model_name": "LayoutModel",
            "_view_count": null,
            "_view_module": "@jupyter-widgets/base",
            "_view_module_version": "1.2.0",
            "_view_name": "LayoutView",
            "align_content": null,
            "align_items": null,
            "align_self": null,
            "border": null,
            "bottom": null,
            "display": null,
            "flex": null,
            "flex_flow": null,
            "grid_area": null,
            "grid_auto_columns": null,
            "grid_auto_flow": null,
            "grid_auto_rows": null,
            "grid_column": null,
            "grid_gap": null,
            "grid_row": null,
            "grid_template_areas": null,
            "grid_template_columns": null,
            "grid_template_rows": null,
            "height": null,
            "justify_content": null,
            "justify_items": null,
            "left": null,
            "margin": null,
            "max_height": null,
            "max_width": null,
            "min_height": null,
            "min_width": null,
            "object_fit": null,
            "object_position": null,
            "order": null,
            "overflow": null,
            "overflow_x": null,
            "overflow_y": null,
            "padding": null,
            "right": null,
            "top": null,
            "visibility": null,
            "width": null
          }
        },
        "4bc764bd5e904174889cf914d14dd451": {
          "model_module": "@jupyter-widgets/controls",
          "model_name": "DescriptionStyleModel",
          "model_module_version": "1.5.0",
          "state": {
            "_model_module": "@jupyter-widgets/controls",
            "_model_module_version": "1.5.0",
            "_model_name": "DescriptionStyleModel",
            "_view_count": null,
            "_view_module": "@jupyter-widgets/base",
            "_view_module_version": "1.2.0",
            "_view_name": "StyleView",
            "description_width": ""
          }
        },
        "1f7d3eb77c3e417fb5f420ad946e7934": {
          "model_module": "@jupyter-widgets/base",
          "model_name": "LayoutModel",
          "model_module_version": "1.2.0",
          "state": {
            "_model_module": "@jupyter-widgets/base",
            "_model_module_version": "1.2.0",
            "_model_name": "LayoutModel",
            "_view_count": null,
            "_view_module": "@jupyter-widgets/base",
            "_view_module_version": "1.2.0",
            "_view_name": "LayoutView",
            "align_content": null,
            "align_items": null,
            "align_self": null,
            "border": null,
            "bottom": null,
            "display": null,
            "flex": null,
            "flex_flow": null,
            "grid_area": null,
            "grid_auto_columns": null,
            "grid_auto_flow": null,
            "grid_auto_rows": null,
            "grid_column": null,
            "grid_gap": null,
            "grid_row": null,
            "grid_template_areas": null,
            "grid_template_columns": null,
            "grid_template_rows": null,
            "height": null,
            "justify_content": null,
            "justify_items": null,
            "left": null,
            "margin": null,
            "max_height": null,
            "max_width": null,
            "min_height": null,
            "min_width": null,
            "object_fit": null,
            "object_position": null,
            "order": null,
            "overflow": null,
            "overflow_x": null,
            "overflow_y": null,
            "padding": null,
            "right": null,
            "top": null,
            "visibility": null,
            "width": null
          }
        },
        "3a0e0c07d33241458c7285371abe0fa2": {
          "model_module": "@jupyter-widgets/controls",
          "model_name": "ProgressStyleModel",
          "model_module_version": "1.5.0",
          "state": {
            "_model_module": "@jupyter-widgets/controls",
            "_model_module_version": "1.5.0",
            "_model_name": "ProgressStyleModel",
            "_view_count": null,
            "_view_module": "@jupyter-widgets/base",
            "_view_module_version": "1.2.0",
            "_view_name": "StyleView",
            "bar_color": null,
            "description_width": ""
          }
        },
        "0f0d1677b29f4ec28b4329e38974ec51": {
          "model_module": "@jupyter-widgets/base",
          "model_name": "LayoutModel",
          "model_module_version": "1.2.0",
          "state": {
            "_model_module": "@jupyter-widgets/base",
            "_model_module_version": "1.2.0",
            "_model_name": "LayoutModel",
            "_view_count": null,
            "_view_module": "@jupyter-widgets/base",
            "_view_module_version": "1.2.0",
            "_view_name": "LayoutView",
            "align_content": null,
            "align_items": null,
            "align_self": null,
            "border": null,
            "bottom": null,
            "display": null,
            "flex": null,
            "flex_flow": null,
            "grid_area": null,
            "grid_auto_columns": null,
            "grid_auto_flow": null,
            "grid_auto_rows": null,
            "grid_column": null,
            "grid_gap": null,
            "grid_row": null,
            "grid_template_areas": null,
            "grid_template_columns": null,
            "grid_template_rows": null,
            "height": null,
            "justify_content": null,
            "justify_items": null,
            "left": null,
            "margin": null,
            "max_height": null,
            "max_width": null,
            "min_height": null,
            "min_width": null,
            "object_fit": null,
            "object_position": null,
            "order": null,
            "overflow": null,
            "overflow_x": null,
            "overflow_y": null,
            "padding": null,
            "right": null,
            "top": null,
            "visibility": null,
            "width": null
          }
        },
        "ee4724ec274842d6b4b43f3746fd2440": {
          "model_module": "@jupyter-widgets/controls",
          "model_name": "DescriptionStyleModel",
          "model_module_version": "1.5.0",
          "state": {
            "_model_module": "@jupyter-widgets/controls",
            "_model_module_version": "1.5.0",
            "_model_name": "DescriptionStyleModel",
            "_view_count": null,
            "_view_module": "@jupyter-widgets/base",
            "_view_module_version": "1.2.0",
            "_view_name": "StyleView",
            "description_width": ""
          }
        }
      }
    }
  },
  "nbformat": 4,
  "nbformat_minor": 0
}